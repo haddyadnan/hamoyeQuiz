{
 "cells": [
  {
   "cell_type": "code",
   "execution_count": 1,
   "metadata": {},
   "outputs": [],
   "source": [
    "import pandas as pd\n",
    "import numpy as np"
   ]
  },
  {
   "cell_type": "code",
   "execution_count": 3,
   "metadata": {},
   "outputs": [],
   "source": [
    "df = pd.read_csv(\"https://raw.githubusercontent.com/WalePhenomenon/climate_change/master/fuel_ferc1.csv\")"
   ]
  },
  {
   "cell_type": "markdown",
   "metadata": {},
   "source": [
    "Q1"
   ]
  },
  {
   "cell_type": "code",
   "execution_count": 78,
   "metadata": {},
   "outputs": [
    {
     "data": {
      "text/plain": [
       "[1, 2, 3, 4]"
      ]
     },
     "execution_count": 78,
     "metadata": {},
     "output_type": "execute_result"
    }
   ],
   "source": [
    "a = [1,2]\n",
    "b = [3,4]\n",
    "a.extend(b) ; a"
   ]
  },
  {
   "cell_type": "markdown",
   "metadata": {},
   "source": [
    "Q2"
   ]
  },
  {
   "cell_type": "code",
   "execution_count": 80,
   "metadata": {},
   "outputs": [
    {
     "data": {
      "text/plain": [
       "array([[1., 0., 0.],\n",
       "       [0., 1., 0.],\n",
       "       [0., 0., 1.]])"
      ]
     },
     "execution_count": 80,
     "metadata": {},
     "output_type": "execute_result"
    }
   ],
   "source": [
    "np.identity(3)"
   ]
  },
  {
   "cell_type": "markdown",
   "metadata": {},
   "source": [
    "Q3"
   ]
  },
  {
   "cell_type": "code",
   "execution_count": 22,
   "metadata": {},
   "outputs": [
    {
     "data": {
      "text/plain": [
       "fuel_type_code_pudl\n",
       "coal         67.421830\n",
       "gas          13.659397\n",
       "nuclear    4955.157002\n",
       "oil         168.877086\n",
       "other        18.253856\n",
       "waste        19.518122\n",
       "Name: fuel_cost_per_unit_burned, dtype: float64"
      ]
     },
     "execution_count": 22,
     "metadata": {},
     "output_type": "execute_result"
    }
   ],
   "source": [
    "df.groupby('fuel_type_code_pudl')['fuel_cost_per_unit_burned'].mean()"
   ]
  },
  {
   "cell_type": "markdown",
   "metadata": {},
   "source": [
    "Q4"
   ]
  },
  {
   "cell_type": "code",
   "execution_count": 81,
   "metadata": {},
   "outputs": [
    {
     "data": {
      "text/plain": [
       "count    29523.000000\n",
       "mean         8.492111\n",
       "std         10.600220\n",
       "min          0.000001\n",
       "25%          1.024000\n",
       "50%          5.762694\n",
       "75%         17.006000\n",
       "max        341.260000\n",
       "Name: fuel_mmbtu_per_unit, dtype: float64"
      ]
     },
     "execution_count": 81,
     "metadata": {},
     "output_type": "execute_result"
    }
   ],
   "source": [
    "df.describe()['fuel_mmbtu_per_unit']"
   ]
  },
  {
   "cell_type": "markdown",
   "metadata": {},
   "source": [
    "Q5"
   ]
  },
  {
   "cell_type": "code",
   "execution_count": 26,
   "metadata": {},
   "outputs": [
    {
     "data": {
      "text/plain": [
       "(15.851495469109503, 651.3694501337732)"
      ]
     },
     "execution_count": 26,
     "metadata": {},
     "output_type": "execute_result"
    }
   ],
   "source": [
    "df.fuel_qty_burned.skew(), df.fuel_qty_burned.kurtosis()"
   ]
  },
  {
   "cell_type": "markdown",
   "metadata": {},
   "source": [
    "Q6"
   ]
  },
  {
   "cell_type": "code",
   "execution_count": 38,
   "metadata": {},
   "outputs": [
    {
     "data": {
      "text/plain": [
       "record_id                       0.000000\n",
       "utility_id_ferc1                0.000000\n",
       "report_year                     0.000000\n",
       "plant_name_ferc1                0.000000\n",
       "fuel_type_code_pudl             0.000000\n",
       "fuel_unit                       0.006097\n",
       "fuel_qty_burned                 0.000000\n",
       "fuel_mmbtu_per_unit             0.000000\n",
       "fuel_cost_per_unit_burned       0.000000\n",
       "fuel_cost_per_unit_delivered    0.000000\n",
       "fuel_cost_per_mmbtu             0.000000\n",
       "dtype: float64"
      ]
     },
     "execution_count": 38,
     "metadata": {},
     "output_type": "execute_result"
    }
   ],
   "source": [
    "df.isnull().sum()/df.shape[0]"
   ]
  },
  {
   "cell_type": "markdown",
   "metadata": {},
   "source": [
    "Q7"
   ]
  },
  {
   "cell_type": "code",
   "execution_count": 82,
   "metadata": {},
   "outputs": [
    {
     "data": {
      "text/plain": [
       "dtype('O')"
      ]
     },
     "execution_count": 82,
     "metadata": {},
     "output_type": "execute_result"
    }
   ],
   "source": [
    "df.fuel_unit.dtype"
   ]
  },
  {
   "cell_type": "code",
   "execution_count": 83,
   "metadata": {},
   "outputs": [
    {
     "name": "stdout",
     "output_type": "stream",
     "text": [
      "<class 'pandas.core.frame.DataFrame'>\n",
      "RangeIndex: 29523 entries, 0 to 29522\n",
      "Data columns (total 11 columns):\n",
      " #   Column                        Non-Null Count  Dtype  \n",
      "---  ------                        --------------  -----  \n",
      " 0   record_id                     29523 non-null  object \n",
      " 1   utility_id_ferc1              29523 non-null  int64  \n",
      " 2   report_year                   29523 non-null  int64  \n",
      " 3   plant_name_ferc1              29523 non-null  object \n",
      " 4   fuel_type_code_pudl           29523 non-null  object \n",
      " 5   fuel_unit                     29343 non-null  object \n",
      " 6   fuel_qty_burned               29523 non-null  float64\n",
      " 7   fuel_mmbtu_per_unit           29523 non-null  float64\n",
      " 8   fuel_cost_per_unit_burned     29523 non-null  float64\n",
      " 9   fuel_cost_per_unit_delivered  29523 non-null  float64\n",
      " 10  fuel_cost_per_mmbtu           29523 non-null  float64\n",
      "dtypes: float64(5), int64(2), object(4)\n",
      "memory usage: 2.5+ MB\n"
     ]
    }
   ],
   "source": [
    "df.info()"
   ]
  },
  {
   "cell_type": "markdown",
   "metadata": {},
   "source": [
    "Q8"
   ]
  },
  {
   "cell_type": "code",
   "execution_count": 41,
   "metadata": {},
   "outputs": [
    {
     "data": {
      "text/html": [
       "<div>\n",
       "<style scoped>\n",
       "    .dataframe tbody tr th:only-of-type {\n",
       "        vertical-align: middle;\n",
       "    }\n",
       "\n",
       "    .dataframe tbody tr th {\n",
       "        vertical-align: top;\n",
       "    }\n",
       "\n",
       "    .dataframe thead th {\n",
       "        text-align: right;\n",
       "    }\n",
       "</style>\n",
       "<table border=\"1\" class=\"dataframe\">\n",
       "  <thead>\n",
       "    <tr style=\"text-align: right;\">\n",
       "      <th></th>\n",
       "      <th>utility_id_ferc1</th>\n",
       "      <th>report_year</th>\n",
       "      <th>fuel_qty_burned</th>\n",
       "      <th>fuel_mmbtu_per_unit</th>\n",
       "      <th>fuel_cost_per_unit_burned</th>\n",
       "      <th>fuel_cost_per_unit_delivered</th>\n",
       "      <th>fuel_cost_per_mmbtu</th>\n",
       "    </tr>\n",
       "  </thead>\n",
       "  <tbody>\n",
       "    <tr>\n",
       "      <th>utility_id_ferc1</th>\n",
       "      <td>1.000000</td>\n",
       "      <td>0.093323</td>\n",
       "      <td>-0.057447</td>\n",
       "      <td>-0.066946</td>\n",
       "      <td>-0.037863</td>\n",
       "      <td>-0.016414</td>\n",
       "      <td>0.006122</td>\n",
       "    </tr>\n",
       "    <tr>\n",
       "      <th>report_year</th>\n",
       "      <td>0.093323</td>\n",
       "      <td>1.000000</td>\n",
       "      <td>0.012952</td>\n",
       "      <td>-0.110853</td>\n",
       "      <td>0.013599</td>\n",
       "      <td>-0.014043</td>\n",
       "      <td>0.010261</td>\n",
       "    </tr>\n",
       "    <tr>\n",
       "      <th>fuel_qty_burned</th>\n",
       "      <td>-0.057447</td>\n",
       "      <td>0.012952</td>\n",
       "      <td>1.000000</td>\n",
       "      <td>-0.080946</td>\n",
       "      <td>-0.018535</td>\n",
       "      <td>-0.003551</td>\n",
       "      <td>-0.001896</td>\n",
       "    </tr>\n",
       "    <tr>\n",
       "      <th>fuel_mmbtu_per_unit</th>\n",
       "      <td>-0.066946</td>\n",
       "      <td>-0.110853</td>\n",
       "      <td>-0.080946</td>\n",
       "      <td>1.000000</td>\n",
       "      <td>-0.010034</td>\n",
       "      <td>-0.009039</td>\n",
       "      <td>-0.005884</td>\n",
       "    </tr>\n",
       "    <tr>\n",
       "      <th>fuel_cost_per_unit_burned</th>\n",
       "      <td>-0.037863</td>\n",
       "      <td>0.013599</td>\n",
       "      <td>-0.018535</td>\n",
       "      <td>-0.010034</td>\n",
       "      <td>1.000000</td>\n",
       "      <td>0.011007</td>\n",
       "      <td>-0.000437</td>\n",
       "    </tr>\n",
       "    <tr>\n",
       "      <th>fuel_cost_per_unit_delivered</th>\n",
       "      <td>-0.016414</td>\n",
       "      <td>-0.014043</td>\n",
       "      <td>-0.003551</td>\n",
       "      <td>-0.009039</td>\n",
       "      <td>0.011007</td>\n",
       "      <td>1.000000</td>\n",
       "      <td>-0.000109</td>\n",
       "    </tr>\n",
       "    <tr>\n",
       "      <th>fuel_cost_per_mmbtu</th>\n",
       "      <td>0.006122</td>\n",
       "      <td>0.010261</td>\n",
       "      <td>-0.001896</td>\n",
       "      <td>-0.005884</td>\n",
       "      <td>-0.000437</td>\n",
       "      <td>-0.000109</td>\n",
       "      <td>1.000000</td>\n",
       "    </tr>\n",
       "  </tbody>\n",
       "</table>\n",
       "</div>"
      ],
      "text/plain": [
       "                              utility_id_ferc1  report_year  fuel_qty_burned  \\\n",
       "utility_id_ferc1                      1.000000     0.093323        -0.057447   \n",
       "report_year                           0.093323     1.000000         0.012952   \n",
       "fuel_qty_burned                      -0.057447     0.012952         1.000000   \n",
       "fuel_mmbtu_per_unit                  -0.066946    -0.110853        -0.080946   \n",
       "fuel_cost_per_unit_burned            -0.037863     0.013599        -0.018535   \n",
       "fuel_cost_per_unit_delivered         -0.016414    -0.014043        -0.003551   \n",
       "fuel_cost_per_mmbtu                   0.006122     0.010261        -0.001896   \n",
       "\n",
       "                              fuel_mmbtu_per_unit  fuel_cost_per_unit_burned  \\\n",
       "utility_id_ferc1                        -0.066946                  -0.037863   \n",
       "report_year                             -0.110853                   0.013599   \n",
       "fuel_qty_burned                         -0.080946                  -0.018535   \n",
       "fuel_mmbtu_per_unit                      1.000000                  -0.010034   \n",
       "fuel_cost_per_unit_burned               -0.010034                   1.000000   \n",
       "fuel_cost_per_unit_delivered            -0.009039                   0.011007   \n",
       "fuel_cost_per_mmbtu                     -0.005884                  -0.000437   \n",
       "\n",
       "                              fuel_cost_per_unit_delivered  \\\n",
       "utility_id_ferc1                                 -0.016414   \n",
       "report_year                                      -0.014043   \n",
       "fuel_qty_burned                                  -0.003551   \n",
       "fuel_mmbtu_per_unit                              -0.009039   \n",
       "fuel_cost_per_unit_burned                         0.011007   \n",
       "fuel_cost_per_unit_delivered                      1.000000   \n",
       "fuel_cost_per_mmbtu                              -0.000109   \n",
       "\n",
       "                              fuel_cost_per_mmbtu  \n",
       "utility_id_ferc1                         0.006122  \n",
       "report_year                              0.010261  \n",
       "fuel_qty_burned                         -0.001896  \n",
       "fuel_mmbtu_per_unit                     -0.005884  \n",
       "fuel_cost_per_unit_burned               -0.000437  \n",
       "fuel_cost_per_unit_delivered            -0.000109  \n",
       "fuel_cost_per_mmbtu                      1.000000  "
      ]
     },
     "execution_count": 41,
     "metadata": {},
     "output_type": "execute_result"
    }
   ],
   "source": [
    "df.corr()"
   ]
  },
  {
   "cell_type": "markdown",
   "metadata": {},
   "source": [
    "Q9"
   ]
  },
  {
   "cell_type": "code",
   "execution_count": 62,
   "metadata": {},
   "outputs": [
    {
     "data": {
      "text/html": [
       "<div>\n",
       "<style scoped>\n",
       "    .dataframe tbody tr th:only-of-type {\n",
       "        vertical-align: middle;\n",
       "    }\n",
       "\n",
       "    .dataframe tbody tr th {\n",
       "        vertical-align: top;\n",
       "    }\n",
       "\n",
       "    .dataframe thead th {\n",
       "        text-align: right;\n",
       "    }\n",
       "</style>\n",
       "<table border=\"1\" class=\"dataframe\">\n",
       "  <thead>\n",
       "    <tr style=\"text-align: right;\">\n",
       "      <th>fuel_type_code_pudl</th>\n",
       "      <th>coal</th>\n",
       "      <th>gas</th>\n",
       "      <th>nuclear</th>\n",
       "      <th>oil</th>\n",
       "      <th>other</th>\n",
       "      <th>waste</th>\n",
       "    </tr>\n",
       "    <tr>\n",
       "      <th>report_year</th>\n",
       "      <th></th>\n",
       "      <th></th>\n",
       "      <th></th>\n",
       "      <th></th>\n",
       "      <th></th>\n",
       "      <th></th>\n",
       "    </tr>\n",
       "  </thead>\n",
       "  <tbody>\n",
       "    <tr>\n",
       "      <th>1994</th>\n",
       "      <td>14984.572</td>\n",
       "      <td>10792.496</td>\n",
       "      <td>227983.354</td>\n",
       "      <td>9362.194</td>\n",
       "      <td>116.737</td>\n",
       "      <td>52.762</td>\n",
       "    </tr>\n",
       "    <tr>\n",
       "      <th>1995</th>\n",
       "      <td>14571.785</td>\n",
       "      <td>9087.905</td>\n",
       "      <td>384152.639</td>\n",
       "      <td>17858.281</td>\n",
       "      <td>183.577</td>\n",
       "      <td>-192.699</td>\n",
       "    </tr>\n",
       "    <tr>\n",
       "      <th>1996</th>\n",
       "      <td>12694.803</td>\n",
       "      <td>1467.390</td>\n",
       "      <td>66657.887</td>\n",
       "      <td>5357.028</td>\n",
       "      <td>160.075</td>\n",
       "      <td>88.092</td>\n",
       "    </tr>\n",
       "    <tr>\n",
       "      <th>1997</th>\n",
       "      <td>43742.178</td>\n",
       "      <td>1518.471</td>\n",
       "      <td>112593.911</td>\n",
       "      <td>5387.536</td>\n",
       "      <td>153.923</td>\n",
       "      <td>137.433</td>\n",
       "    </tr>\n",
       "    <tr>\n",
       "      <th>1998</th>\n",
       "      <td>11902.597</td>\n",
       "      <td>7475.596</td>\n",
       "      <td>117788.269</td>\n",
       "      <td>2608.657</td>\n",
       "      <td>225.428</td>\n",
       "      <td>238.109</td>\n",
       "    </tr>\n",
       "    <tr>\n",
       "      <th>1999</th>\n",
       "      <td>16303.468</td>\n",
       "      <td>16767.895</td>\n",
       "      <td>62915.808</td>\n",
       "      <td>29654.510</td>\n",
       "      <td>271.579</td>\n",
       "      <td>143.025</td>\n",
       "    </tr>\n",
       "    <tr>\n",
       "      <th>2000</th>\n",
       "      <td>100428.831</td>\n",
       "      <td>10024.878</td>\n",
       "      <td>112375.382</td>\n",
       "      <td>104055.470</td>\n",
       "      <td>100.014</td>\n",
       "      <td>-489.141</td>\n",
       "    </tr>\n",
       "    <tr>\n",
       "      <th>2001</th>\n",
       "      <td>15109.012</td>\n",
       "      <td>10360.348</td>\n",
       "      <td>59292.078</td>\n",
       "      <td>95315.421</td>\n",
       "      <td>71.283</td>\n",
       "      <td>217.499</td>\n",
       "    </tr>\n",
       "    <tr>\n",
       "      <th>2002</th>\n",
       "      <td>9171.164</td>\n",
       "      <td>3584.279</td>\n",
       "      <td>59958.884</td>\n",
       "      <td>48956.627</td>\n",
       "      <td>-4.257</td>\n",
       "      <td>254.438</td>\n",
       "    </tr>\n",
       "    <tr>\n",
       "      <th>2003</th>\n",
       "      <td>30954.110</td>\n",
       "      <td>7170.143</td>\n",
       "      <td>59591.536</td>\n",
       "      <td>51349.250</td>\n",
       "      <td>-51.286</td>\n",
       "      <td>161.973</td>\n",
       "    </tr>\n",
       "    <tr>\n",
       "      <th>2004</th>\n",
       "      <td>9632.063</td>\n",
       "      <td>5019.023</td>\n",
       "      <td>61870.002</td>\n",
       "      <td>107669.303</td>\n",
       "      <td>174.796</td>\n",
       "      <td>272.512</td>\n",
       "    </tr>\n",
       "    <tr>\n",
       "      <th>2005</th>\n",
       "      <td>11107.182</td>\n",
       "      <td>3833.652</td>\n",
       "      <td>94192.368</td>\n",
       "      <td>26401.284</td>\n",
       "      <td>76.196</td>\n",
       "      <td>313.457</td>\n",
       "    </tr>\n",
       "    <tr>\n",
       "      <th>2006</th>\n",
       "      <td>12402.684</td>\n",
       "      <td>3598.417</td>\n",
       "      <td>141240.473</td>\n",
       "      <td>30285.707</td>\n",
       "      <td>190.904</td>\n",
       "      <td>423.847</td>\n",
       "    </tr>\n",
       "    <tr>\n",
       "      <th>2007</th>\n",
       "      <td>12965.171</td>\n",
       "      <td>3867.366</td>\n",
       "      <td>154945.333</td>\n",
       "      <td>83766.316</td>\n",
       "      <td>143.112</td>\n",
       "      <td>427.014</td>\n",
       "    </tr>\n",
       "    <tr>\n",
       "      <th>2008</th>\n",
       "      <td>14331.348</td>\n",
       "      <td>16087.669</td>\n",
       "      <td>226552.820</td>\n",
       "      <td>56654.223</td>\n",
       "      <td>211.940</td>\n",
       "      <td>474.022</td>\n",
       "    </tr>\n",
       "    <tr>\n",
       "      <th>2009</th>\n",
       "      <td>45554.858</td>\n",
       "      <td>11193.089</td>\n",
       "      <td>172823.881</td>\n",
       "      <td>33068.327</td>\n",
       "      <td>204.527</td>\n",
       "      <td>739.884</td>\n",
       "    </tr>\n",
       "    <tr>\n",
       "      <th>2010</th>\n",
       "      <td>88627.745</td>\n",
       "      <td>4240.494</td>\n",
       "      <td>202133.032</td>\n",
       "      <td>35503.392</td>\n",
       "      <td>321.647</td>\n",
       "      <td>755.157</td>\n",
       "    </tr>\n",
       "    <tr>\n",
       "      <th>2011</th>\n",
       "      <td>17001.015</td>\n",
       "      <td>3264.968</td>\n",
       "      <td>229824.926</td>\n",
       "      <td>123477.065</td>\n",
       "      <td>89.717</td>\n",
       "      <td>517.912</td>\n",
       "    </tr>\n",
       "    <tr>\n",
       "      <th>2012</th>\n",
       "      <td>17546.097</td>\n",
       "      <td>3420.876</td>\n",
       "      <td>240648.791</td>\n",
       "      <td>59263.866</td>\n",
       "      <td>224.123</td>\n",
       "      <td>589.791</td>\n",
       "    </tr>\n",
       "    <tr>\n",
       "      <th>2013</th>\n",
       "      <td>17629.860</td>\n",
       "      <td>2982.281</td>\n",
       "      <td>243192.226</td>\n",
       "      <td>42336.964</td>\n",
       "      <td>182.494</td>\n",
       "      <td>609.411</td>\n",
       "    </tr>\n",
       "    <tr>\n",
       "      <th>2014</th>\n",
       "      <td>15412.197</td>\n",
       "      <td>4169.285</td>\n",
       "      <td>229158.129</td>\n",
       "      <td>268670.603</td>\n",
       "      <td>0.661</td>\n",
       "      <td>591.594</td>\n",
       "    </tr>\n",
       "    <tr>\n",
       "      <th>2015</th>\n",
       "      <td>13338.235</td>\n",
       "      <td>6224.304</td>\n",
       "      <td>208830.486</td>\n",
       "      <td>31038.094</td>\n",
       "      <td>0.595</td>\n",
       "      <td>629.270</td>\n",
       "    </tr>\n",
       "    <tr>\n",
       "      <th>2016</th>\n",
       "      <td>11100.925</td>\n",
       "      <td>1994.266</td>\n",
       "      <td>213837.559</td>\n",
       "      <td>28012.376</td>\n",
       "      <td>0.609</td>\n",
       "      <td>539.079</td>\n",
       "    </tr>\n",
       "    <tr>\n",
       "      <th>2017</th>\n",
       "      <td>10254.284</td>\n",
       "      <td>4424.244</td>\n",
       "      <td>197491.493</td>\n",
       "      <td>31935.723</td>\n",
       "      <td>NaN</td>\n",
       "      <td>452.079</td>\n",
       "    </tr>\n",
       "    <tr>\n",
       "      <th>2018</th>\n",
       "      <td>9488.197</td>\n",
       "      <td>4322.494</td>\n",
       "      <td>173267.161</td>\n",
       "      <td>33836.602</td>\n",
       "      <td>NaN</td>\n",
       "      <td>660.972</td>\n",
       "    </tr>\n",
       "  </tbody>\n",
       "</table>\n",
       "</div>"
      ],
      "text/plain": [
       "fuel_type_code_pudl        coal        gas     nuclear         oil    other  \\\n",
       "report_year                                                                   \n",
       "1994                  14984.572  10792.496  227983.354    9362.194  116.737   \n",
       "1995                  14571.785   9087.905  384152.639   17858.281  183.577   \n",
       "1996                  12694.803   1467.390   66657.887    5357.028  160.075   \n",
       "1997                  43742.178   1518.471  112593.911    5387.536  153.923   \n",
       "1998                  11902.597   7475.596  117788.269    2608.657  225.428   \n",
       "1999                  16303.468  16767.895   62915.808   29654.510  271.579   \n",
       "2000                 100428.831  10024.878  112375.382  104055.470  100.014   \n",
       "2001                  15109.012  10360.348   59292.078   95315.421   71.283   \n",
       "2002                   9171.164   3584.279   59958.884   48956.627   -4.257   \n",
       "2003                  30954.110   7170.143   59591.536   51349.250  -51.286   \n",
       "2004                   9632.063   5019.023   61870.002  107669.303  174.796   \n",
       "2005                  11107.182   3833.652   94192.368   26401.284   76.196   \n",
       "2006                  12402.684   3598.417  141240.473   30285.707  190.904   \n",
       "2007                  12965.171   3867.366  154945.333   83766.316  143.112   \n",
       "2008                  14331.348  16087.669  226552.820   56654.223  211.940   \n",
       "2009                  45554.858  11193.089  172823.881   33068.327  204.527   \n",
       "2010                  88627.745   4240.494  202133.032   35503.392  321.647   \n",
       "2011                  17001.015   3264.968  229824.926  123477.065   89.717   \n",
       "2012                  17546.097   3420.876  240648.791   59263.866  224.123   \n",
       "2013                  17629.860   2982.281  243192.226   42336.964  182.494   \n",
       "2014                  15412.197   4169.285  229158.129  268670.603    0.661   \n",
       "2015                  13338.235   6224.304  208830.486   31038.094    0.595   \n",
       "2016                  11100.925   1994.266  213837.559   28012.376    0.609   \n",
       "2017                  10254.284   4424.244  197491.493   31935.723      NaN   \n",
       "2018                   9488.197   4322.494  173267.161   33836.602      NaN   \n",
       "\n",
       "fuel_type_code_pudl    waste  \n",
       "report_year                   \n",
       "1994                  52.762  \n",
       "1995                -192.699  \n",
       "1996                  88.092  \n",
       "1997                 137.433  \n",
       "1998                 238.109  \n",
       "1999                 143.025  \n",
       "2000                -489.141  \n",
       "2001                 217.499  \n",
       "2002                 254.438  \n",
       "2003                 161.973  \n",
       "2004                 272.512  \n",
       "2005                 313.457  \n",
       "2006                 423.847  \n",
       "2007                 427.014  \n",
       "2008                 474.022  \n",
       "2009                 739.884  \n",
       "2010                 755.157  \n",
       "2011                 517.912  \n",
       "2012                 589.791  \n",
       "2013                 609.411  \n",
       "2014                 591.594  \n",
       "2015                 629.270  \n",
       "2016                 539.079  \n",
       "2017                 452.079  \n",
       "2018                 660.972  "
      ]
     },
     "execution_count": 62,
     "metadata": {},
     "output_type": "execute_result"
    }
   ],
   "source": [
    "pd.crosstab(df.report_year, df.fuel_type_code_pudl, values = df.fuel_cost_per_unit_burned, aggfunc=np.sum)"
   ]
  },
  {
   "cell_type": "code",
   "execution_count": 76,
   "metadata": {},
   "outputs": [
    {
     "data": {
      "text/plain": [
       "-21"
      ]
     },
     "execution_count": 76,
     "metadata": {},
     "output_type": "execute_result"
    }
   ],
   "source": [
    "round((((11902.597 - 14984.572)/14984.572) * 100))"
   ]
  },
  {
   "cell_type": "markdown",
   "metadata": {},
   "source": [
    "Q10"
   ]
  },
  {
   "cell_type": "code",
   "execution_count": 86,
   "metadata": {},
   "outputs": [
    {
     "data": {
      "text/plain": [
       "report_year\n",
       "1994       63.636060\n",
       "1995       32.735269\n",
       "1996     9196.705948\n",
       "1997    11140.197239\n",
       "1998      287.154420\n",
       "1999       25.551627\n",
       "2000      985.362877\n",
       "2001       60.050396\n",
       "2002       47.594361\n",
       "2003       55.663493\n",
       "2004      139.524275\n",
       "2005       41.438184\n",
       "2006       38.657484\n",
       "2007       43.325023\n",
       "2008       58.588197\n",
       "2009      652.694163\n",
       "2010       91.862105\n",
       "2011       59.774667\n",
       "2012       60.994502\n",
       "2013      172.307591\n",
       "2014      192.737183\n",
       "2015      326.535511\n",
       "2016      103.901761\n",
       "2017       46.196861\n",
       "2018      499.269966\n",
       "Name: fuel_cost_per_unit_delivered, dtype: float64"
      ]
     },
     "execution_count": 86,
     "metadata": {},
     "output_type": "execute_result"
    }
   ],
   "source": [
    "df.groupby('report_year')['fuel_cost_per_unit_delivered'].mean()"
   ]
  },
  {
   "cell_type": "code",
   "execution_count": null,
   "metadata": {},
   "outputs": [],
   "source": []
  }
 ],
 "metadata": {
  "kernelspec": {
   "display_name": "Python 3",
   "language": "python",
   "name": "python3"
  },
  "language_info": {
   "codemirror_mode": {
    "name": "ipython",
    "version": 3
   },
   "file_extension": ".py",
   "mimetype": "text/x-python",
   "name": "python",
   "nbconvert_exporter": "python",
   "pygments_lexer": "ipython3",
   "version": "3.7.7"
  }
 },
 "nbformat": 4,
 "nbformat_minor": 4
}
